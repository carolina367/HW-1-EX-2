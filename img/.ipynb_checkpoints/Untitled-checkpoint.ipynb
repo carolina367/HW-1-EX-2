{
 "cells": [
  {
   "cell_type": "code",
   "execution_count": null,
   "id": "8bef643e-aa23-454c-a998-252d8e23f559",
   "metadata": {},
   "outputs": [],
   "source": []
  }
 ],
 "metadata": {
  "kernelspec": {
   "display_name": "",
   "name": ""
  },
  "language_info": {
   "name": ""
  }
 },
 "nbformat": 4,
 "nbformat_minor": 5
}
